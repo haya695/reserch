{
 "cells": [
  {
   "cell_type": "code",
   "execution_count": 1,
   "id": "fdcf9096-50c9-407c-aeb4-34e639fa1f13",
   "metadata": {
    "tags": []
   },
   "outputs": [],
   "source": [
    "#For sklearn error\n",
    "#!pip install scikit-learn\n",
    "#For pandas error\n",
    "#!pip install pandas\n",
    "#For cv2 error\n",
    "#!pip install opencv-python\n",
    "#For PIL error\n",
    "#!pip install PIL\n",
    "#for keras error\n",
    "#!pip install keras\n",
    "#for tensorflow error\n",
    "#!pip install tensorflow\n",
    "\n",
    "#10/18\n",
    "# if i_dif_flux_matrix.shape[1] != 120: → if i_dif_flux_matrix.shape[1] != 90:\n",
    "\n",
    "#10/22\n",
    "# 正規化したフラックスデータをjet規格でRGBに変換"
   ]
  },
  {
   "cell_type": "markdown",
   "id": "41a73945-cf59-4a08-953e-c54309625a47",
   "metadata": {},
   "source": [
    "# フラックスをlogスケールにし、0~1の範囲で正規化する関数"
   ]
  },
  {
   "cell_type": "code",
   "execution_count": 2,
   "id": "8b3c3662-48c0-4225-9e3e-572599c4cade",
   "metadata": {
    "tags": []
   },
   "outputs": [],
   "source": [
    "#NEW\n",
    "import numpy as np\n",
    "\n",
    "def log_norm(data, vmin=None, vmax=None):\n",
    "    # データの最小値と最大値を指定しない場合、自動的に計算\n",
    "    if vmin is None:\n",
    "        vmin = np.min(data)\n",
    "    if vmax is None:\n",
    "        vmax = np.max(data)\n",
    "\n",
    "    # 最小値と最大値をログスケールに変換\n",
    "    log_min = np.log10(vmin) if vmin > 0 else 0  # vminが0以下の場合は0に設定\n",
    "    log_max = np.log10(vmax) if vmax > 0 else 0  # vmaxが0以下の場合は0に設定\n",
    "\n",
    "    # データをvminとvmaxの範囲にクリップ（vminより小さい値はvmin、vmaxより大きい値はvmaxに）\n",
    "    clipped_data = np.clip(data, vmin, vmax)\n",
    "    \n",
    "    # 対数変換を行い、0〜1の範囲で正規化\n",
    "    # クリッピング後のデータに対して対数変換を行う\n",
    "    log_data = np.log10(clipped_data)  # クリップしたデータを対数変換\n",
    "    \n",
    "    # 正規化\n",
    "    norm_data = (log_data - log_min) / (log_max - log_min)\n",
    "    \n",
    "    return norm_data\n"
   ]
  },
  {
   "cell_type": "markdown",
   "id": "e81d0ceb-92ab-4832-a687-8753aa5d5c7b",
   "metadata": {},
   "source": [
    "# ライブラリのインポート"
   ]
  },
  {
   "cell_type": "code",
   "execution_count": 3,
   "id": "aedb6821",
   "metadata": {
    "tags": []
   },
   "outputs": [],
   "source": [
    "import keras\n",
    "from tensorflow.keras import utils\n",
    "from tensorflow.keras.layers import Conv2D, MaxPooling2D\n",
    "from keras.models import Sequential\n",
    "from keras.layers import Dense, Dropout, Activation, Flatten\n",
    "from tensorflow.keras.utils import array_to_img, img_to_array, load_img\n",
    "import numpy as np\n",
    "import pandas as pd\n",
    "from sklearn.model_selection import train_test_split\n",
    "import matplotlib.pyplot as plt\n",
    "import os\n",
    "import re\n",
    "\n",
    "def list_pictures(directory, ext='jpg|jpeg|bmp|png|ppm'):\n",
    "    return [os.path.join(root, f)\n",
    "            for root, _, files in os.walk(directory) for f in files\n",
    "            if re.match(r'([\\w]+.(?:' + ext + '))', f.lower())]"
   ]
  },
  {
   "cell_type": "code",
   "execution_count": 4,
   "id": "95f0ce5d-a48a-4506-80d5-1f70965bd6f4",
   "metadata": {
    "tags": []
   },
   "outputs": [],
   "source": [
    "#Number of recognition class\n",
    "classNumber = 2"
   ]
  },
  {
   "cell_type": "markdown",
   "id": "0eb02482-20c5-46f7-b328-ec7ada9db3b7",
   "metadata": {},
   "source": [
    "# 入力値を画像ではなくマトリックスにする"
   ]
  },
  {
   "cell_type": "code",
   "execution_count": 5,
   "id": "9ed7e168-eb20-4fb9-b8f6-8922f3a3be14",
   "metadata": {
    "tags": []
   },
   "outputs": [],
   "source": [
    "import os"
   ]
  },
  {
   "cell_type": "code",
   "execution_count": 6,
   "id": "de4f8ccd-9706-4469-9972-8bbbe89ff589",
   "metadata": {
    "tags": []
   },
   "outputs": [
    {
     "name": "stdout",
     "output_type": "stream",
     "text": [
      "/Volumes/HD-PUSU3-D/training_data_90sec/class1/\n",
      "/Volumes/HD-PUSU3-D/training_data_90sec/class2/\n",
      "[0 0 0 ... 1 1 1]\n",
      "(1544, 19, 90)\n"
     ]
    }
   ],
   "source": [
    "#Import training data\n",
    "\n",
    "X = []\n",
    "Y = []\n",
    "I = []\n",
    "dataNum = []\n",
    "\n",
    "for i in range(classNumber):\n",
    "    filepath = '/Volumes/HD-PUSU3-D/training_data_90sec/class' + str(i+1) + '/'\n",
    "    dataNum.append(0)\n",
    "    print(filepath)\n",
    "    # for picture in list_pictures(filepath):\n",
    "        # origimg = load_img(picture, target_size=(40,100))\n",
    "        # I.append(origimg)\n",
    "        # i_dif_flux_matrix = pd.read_csv('out.csv',sep=',', header = None)\n",
    "        # X.append(i_dif_flux_matrix)\n",
    "        # Y.append(i)\n",
    "        # dataNum[i] += 1\n",
    "     # 指定したフォルダ内のすべてのCSVファイルを取得\n",
    "    for filename in os.listdir(filepath):\n",
    "        \n",
    "        try:\n",
    "            if filename.endswith('.csv'):\n",
    "                fullpath = os.path.join(filepath, filename)\n",
    "                i_dif_flux_matrix = pd.read_csv(fullpath, sep=',', header=None)\n",
    "                \n",
    "                # 行の長さが19行でない場合はスキップする\n",
    "                if i_dif_flux_matrix.shape[0] != 19:\n",
    "                    print(f\"Skipped {filename}: Not 19 rows\")\n",
    "                    print(i_dif_flux_matrix.shape[1])\n",
    "                    continue\n",
    "                if i_dif_flux_matrix.shape[1] != 90:\n",
    "                    print(f\"Skipped {filename}: Not 90 columns\")\n",
    "                    print(i_dif_flux_matrix.shape[1])\n",
    "                    continue\n",
    "                \n",
    "                \n",
    "                X.append(i_dif_flux_matrix.values)  # データフレームをNumPy配列に変換\n",
    "                Y.append(i)\n",
    "                dataNum[i] += 1\n",
    "        except:\n",
    "            continue\n",
    "\n",
    "     \n",
    "\n",
    "\n",
    "    # i_dif_flux_matrix = pd.read_csv('out.csv',sep=',', header = None)\n",
    "# print(type(userdicdf))\n",
    "\n",
    "# arrayに変換\n",
    "X = np.asarray(X)\n",
    "# print(X)\n",
    "Y = np.asarray(Y)\n",
    "print(Y)\n",
    "print(X.shape)\n",
    "# for i in range(classNumber):\n",
    "    # print(dataNum[i])"
   ]
  },
  {
   "cell_type": "code",
   "execution_count": null,
   "id": "0c867afd-ebf4-4255-87b0-bcd9a26633f3",
   "metadata": {},
   "outputs": [],
   "source": []
  },
  {
   "cell_type": "code",
   "execution_count": 7,
   "id": "f1f197b1-f87c-4ebf-b999-ef9f78b76461",
   "metadata": {
    "tags": []
   },
   "outputs": [
    {
     "name": "stdout",
     "output_type": "stream",
     "text": [
      "/Volumes/HD-PUSU3-D/training_data_90sec/class1/\n",
      "/Volumes/HD-PUSU3-D/training_data_90sec/class2/\n",
      "[0 0 0 ... 1 1 1]\n",
      "(1544, 19, 90)\n"
     ]
    }
   ],
   "source": [
    "from io import BytesIO\n",
    "from PIL import Image\n",
    "#Import training data\n",
    "\n",
    "X = []\n",
    "Y = []\n",
    "I = []\n",
    "dataNum = []\n",
    "\n",
    "for i in range(classNumber):\n",
    "    filepath = '/Volumes/HD-PUSU3-D/training_data_90sec/class' + str(i+1) + '/'\n",
    "    dataNum.append(0)\n",
    "    print(filepath)\n",
    "    # for picture in list_pictures(filepath):\n",
    "        # origimg = load_img(picture, target_size=(40,100))\n",
    "        # I.append(origimg)\n",
    "        # i_dif_flux_matrix = pd.read_csv('out.csv',sep=',', header = None)\n",
    "        # X.append(i_dif_flux_matrix)\n",
    "        # Y.append(i)\n",
    "        # dataNum[i] += 1\n",
    "     # 指定したフォルダ内のすべてのCSVファイルを取得\n",
    "    for filename in os.listdir(filepath):\n",
    "        \n",
    "        try:\n",
    "            if filename.endswith('.csv'):\n",
    "                fullpath = os.path.join(filepath, filename)\n",
    "                i_dif_flux_matrix = pd.read_csv(fullpath, sep=',', header=None)\n",
    "                \n",
    "                # 行の長さが19行でない場合はスキップする\n",
    "                if i_dif_flux_matrix.shape[0] != 19:\n",
    "                    print(f\"Skipped {filename}: Not 19 rows\")\n",
    "                    print(i_dif_flux_matrix.shape[1])\n",
    "                    continue\n",
    "                if i_dif_flux_matrix.shape[1] != 90:\n",
    "                    print(f\"Skipped {filename}: Not 120 columns\")\n",
    "                    print(i_dif_flux_matrix.shape[1])\n",
    "                    continue\n",
    "                \n",
    "            \n",
    "                \n",
    "                X.append(i_dif_flux_matrix.values)  # データフレームをNumPy配列に変換\n",
    "                Y.append(i)\n",
    "                dataNum[i] += 1\n",
    "        except:\n",
    "            continue\n",
    "\n",
    "     \n",
    "\n",
    "\n",
    "    # i_dif_flux_matrix = pd.read_csv('out.csv',sep=',', header = None)\n",
    "# print(type(userdicdf))\n",
    "\n",
    "# arrayに変換\n",
    "X = np.asarray(X)\n",
    "# print(X)\n",
    "Y = np.asarray(Y)\n",
    "print(Y)\n",
    "print(X.shape)\n",
    "# for i in range(classNumber):\n",
    "    # print(dataNum[i])"
   ]
  },
  {
   "cell_type": "code",
   "execution_count": null,
   "id": "53f9aa6e-220c-4129-8bd8-137be9eebbce",
   "metadata": {
    "tags": []
   },
   "outputs": [],
   "source": []
  },
  {
   "cell_type": "code",
   "execution_count": 8,
   "id": "9cc62536-21e7-434d-9a4a-e2a0697cac7f",
   "metadata": {
    "tags": []
   },
   "outputs": [],
   "source": [
    "# Transform pixel value from 0 to 1\n",
    "\n",
    "# X = X.astype('float32')\n",
    "# X = X / 255.0\n",
    "# Categorical class\n",
    "Y = utils.to_categorical(Y, classNumber)"
   ]
  },
  {
   "cell_type": "code",
   "execution_count": null,
   "id": "12db4674-1c5f-4da5-842c-d7584d952433",
   "metadata": {
    "tags": []
   },
   "outputs": [],
   "source": [
    "import matplotlib.colors as mcolors\n",
    "from matplotlib.colors import Normalize\n",
    "# X=np.log10(X)\n",
    "\n",
    "\n",
    "# norm = Normalize(vmin=1e2, vmax=1e6)\n",
    "\n",
    "#Xをログスケールにして、値が1e2以下のものには0を代入\n",
    "X = np.where((X <= 1e2) | np.isnan(X), 0, log_norm(X, vmin=1e2, vmax=1e6))\n",
    "\n",
    "# X[np.isinf(X)] = 0\n",
    "# X[np.isinf(X)] = np.nan\n",
    "# X = np.where(np.log10(X) <= 0, 0, np.log10(X))\n",
    "print(X)\n",
    "\n",
    "#32ビットfloatに変換\n",
    "X = X.astype('float32')\n",
    "#XをConv2Dに入れるためチャンネル数の次元を追加(バッチサイズ、高さ、幅、チャンネル数)\n",
    "# バッチ次元を追加して形状を (1539, 19, 120, 1) にする\n",
    "\n",
    "print(X)\n",
    "# X = np.expand_dims(X, axis=-1)\n",
    "# X.shape\n",
    "\n"
   ]
  },
  {
   "cell_type": "code",
   "execution_count": 10,
   "id": "c85c71fb-baaa-4ae8-9578-ba8672a0495f",
   "metadata": {
    "tags": []
   },
   "outputs": [
    {
     "name": "stdout",
     "output_type": "stream",
     "text": [
      "(1544, 19, 90, 3)\n"
     ]
    }
   ],
   "source": [
    "# カラーマップの作成\n",
    "cmap = plt.get_cmap('jet')\n",
    "\n",
    "# `jet`カラーマップを適用し、RGBリストに変換（最後の次元はRGBA）\n",
    "rgb_X = cmap(X)\n",
    "\n",
    "# RGBAからRGBに変換（αチャンネルを削除）\n",
    "rgb_X = rgb_X[..., :3]  # 最後の次元（αチャンネル）を削除\n",
    "\n",
    "# RGBリストの形状確認（(1544, 19, 90, 3)）\n",
    "print(rgb_X.shape)  # (1544, 19, 90, 3)"
   ]
  },
  {
   "cell_type": "code",
   "execution_count": 30,
   "id": "77dcc005-da29-43a1-b361-d100ee1e88aa",
   "metadata": {
    "tags": []
   },
   "outputs": [
    {
     "data": {
      "image/png": "[encoded data removed]",
      "text/plain": [
       "<Figure size 640x480 with 1 Axes>"
      ]
     },
     "metadata": {},
     "output_type": "display_data"
    }
   ],
   "source": [
    "# データをカラースケールでプロット\n",
    "plt.imshow(rgb_X[15, :, :])  # サイズ (19, 90) を表示\n",
    "plt.title('Color Scale Plot')\n",
    "plt.axis('off')  # 軸を非表示にする\n",
    "plt.show()"
   ]
  },
  {
   "cell_type": "code",
   "execution_count": null,
   "id": "77a9cd69-1c03-4c31-ad82-20da5b1dc8ca",
   "metadata": {},
   "outputs": [],
   "source": []
  },
  {
   "cell_type": "code",
   "execution_count": null,
   "id": "48132640-ea75-45cd-ba3b-29549b360b7a",
   "metadata": {},
   "outputs": [],
   "source": []
  },
  {
   "cell_type": "code",
   "execution_count": 12,
   "id": "43b8c66a-9664-4edd-97b1-cac3c72474f8",
   "metadata": {},
   "outputs": [],
   "source": [
    "# テストデータを検証データとテストデータに分割\n",
    "X,valX, Y, valY = train_test_split(rgb_X, Y, test_size=0.3, random_state=42)\n"
   ]
  },
  {
   "cell_type": "code",
   "execution_count": 13,
   "id": "37e86c86-7a92-4333-ba9e-44552a19faa3",
   "metadata": {
    "tags": []
   },
   "outputs": [
    {
     "name": "stdout",
     "output_type": "stream",
     "text": [
      "X の最大値は: 1.0\n"
     ]
    }
   ],
   "source": [
    "# X の最大値を表示\n",
    "max_value = np.max(rgb_X)\n",
    "print(\"X の最大値は:\", max_value)"
   ]
  },
  {
   "cell_type": "code",
   "execution_count": null,
   "id": "d803c2b1-bf1a-434f-ad77-b72f58b8f831",
   "metadata": {
    "tags": []
   },
   "outputs": [],
   "source": [
    "\n"
   ]
  },
  {
   "cell_type": "code",
   "execution_count": 14,
   "id": "52c1c598-8cff-46b7-a054-b3d7d4581a9b",
   "metadata": {
    "tags": []
   },
   "outputs": [
    {
     "name": "stderr",
     "output_type": "stream",
     "text": [
      "/Users/masunohayato/anaconda3/lib/python3.11/site-packages/keras/src/layers/convolutional/base_conv.py:99: UserWarning: Do not pass an `input_shape`/`input_dim` argument to a layer. When using Sequential models, prefer using an `Input(shape)` object as the first layer in the model instead.\n",
      "  super().__init__(\n"
     ]
    }
   ],
   "source": [
    "# Network setup\n",
    "\n",
    "model = Sequential()\n",
    "\n",
    "model.add(Conv2D(32, (3, 3), padding='same',\n",
    "                 input_shape=X.shape[1:]))\n",
    "model.add(Activation('relu'))\n",
    "model.add(Conv2D(32, (3, 3)))\n",
    "model.add(Activation('relu'))\n",
    "model.add(MaxPooling2D(pool_size=(2, 2)))\n",
    "model.add(Dropout(0.25))\n",
    "\n",
    "# Remove comments when low accuracy\n",
    "'''\n",
    "model.add(Conv2D(64, (3, 3), padding='same'))\n",
    "model.add(Activation('relu'))\n",
    "model.add(Conv2D(64, (3, 3)))\n",
    "model.add(Activation('relu'))\n",
    "model.add(MaxPooling2D(pool_size=(2, 2)))\n",
    "model.add(Dropout(0.25))\n",
    "'''\n",
    "\n",
    "model.add(Flatten())\n",
    "model.add(Dense(512))\n",
    "model.add(Activation('relu'))\n",
    "model.add(Dropout(0.5))\n",
    "model.add(Dense(classNumber))       # Number of class\n",
    "model.add(Activation('softmax'))\n",
    "\n",
    "# Compile\n",
    "model.compile(loss='categorical_crossentropy',\n",
    "              optimizer='SGD',\n",
    "              metrics=['accuracy'])"
   ]
  },
  {
   "cell_type": "code",
   "execution_count": null,
   "id": "015c600d-9315-4ad6-83cc-888e33bfadbd",
   "metadata": {
    "tags": []
   },
   "outputs": [],
   "source": []
  },
  {
   "cell_type": "code",
   "execution_count": 15,
   "id": "fd5b05ff-9a85-4992-89c7-7948e6f20924",
   "metadata": {
    "tags": []
   },
   "outputs": [],
   "source": [
    "# from keras.models import Sequential\n",
    "# from keras.layers import Conv2D, MaxPooling2D, Activation, Dropout, Flatten, Dense\n",
    "# from keras.optimizers import SGD\n",
    "\n",
    "# # Model setup\n",
    "# model = Sequential()\n",
    "# # First Convolutional Layer\n",
    "# model.add(Conv2D(32, (3, 3), padding='same', input_shape=X.shape[1:]))  # Adjust input_shape for binary images\n",
    "# model.add(Activation('relu'))\n",
    "# model.add(Conv2D(32, (3, 3)))\n",
    "# model.add(Activation('relu'))\n",
    "# model.add(MaxPooling2D(pool_size=(2, 2)))\n",
    "# model.add(Dropout(0.25))\n",
    "\n",
    "# # Second Convolutional Layer\n",
    "# model.add(Conv2D(64, (3, 3), padding='same'))\n",
    "# model.add(Activation('relu'))\n",
    "# model.add(Conv2D(64, (3, 3)))\n",
    "# model.add(Activation('relu'))\n",
    "# model.add(MaxPooling2D(pool_size=(2, 2)))\n",
    "# model.add(Dropout(0.25))\n",
    "\n",
    "# # Fully Connected Layers\n",
    "# model.add(Flatten())\n",
    "# model.add(Dense(512))\n",
    "# model.add(Activation('relu'))\n",
    "# model.add(Dropout(0.5))\n",
    "\n",
    "# # Output Layer for binary classification\n",
    "# model.add(Dense(2))  # 出力ユニット数を2に変更\n",
    "# model.add(Activation('softmax'))  # softmaxアクティベーション\n",
    "\n",
    "# # Compile the model\n",
    "# model.compile(loss='binary_crossentropy',  # Binary classification loss function\n",
    "#               optimizer=SGD(),             # Stochastic Gradient Descent\n",
    "#               metrics=['accuracy'])\n"
   ]
  },
  {
   "cell_type": "code",
   "execution_count": null,
   "id": "7e873812-1c24-4542-a27b-df33d50cf7b6",
   "metadata": {},
   "outputs": [],
   "source": []
  },
  {
   "cell_type": "code",
   "execution_count": 16,
   "id": "330168dd-a37d-42f9-aa50-9577f2255854",
   "metadata": {
    "tags": []
   },
   "outputs": [],
   "source": [
    "# from keras.models import Sequential\n",
    "# from keras.layers import Conv2D, MaxPooling2D, Activation, Dropout, Flatten, Dense\n",
    "# from keras.optimizers import SGD\n",
    "\n",
    "# # Model setup\n",
    "# model = Sequential()\n",
    "# # First Convolutional Layer\n",
    "# model.add(Conv2D(32, (3, 3), padding='same', input_shape=X.shape[1:]))  # Adjust input_shape for binary images\n",
    "# model.add(Activation('relu'))\n",
    "# model.add(Conv2D(32, (3, 3)))\n",
    "# model.add(Activation('relu'))\n",
    "# model.add(MaxPooling2D(pool_size=(2, 2)))\n",
    "# model.add(Dropout(0.25))\n",
    "\n",
    "# # Second Convolutional Layer\n",
    "# model.add(Conv2D(64, (3, 3), padding='same'))\n",
    "# model.add(Activation('relu'))\n",
    "# model.add(Conv2D(64, (3, 3)))\n",
    "# model.add(Activation('relu'))\n",
    "# model.add(MaxPooling2D(pool_size=(2, 2)))\n",
    "# model.add(Dropout(0.3))\n",
    "\n",
    "# # Fully Connected Layers\n",
    "# model.add(Flatten())\n",
    "# model.add(Dense(256))\n",
    "# model.add(Activation('relu'))\n",
    "# model.add(Dropout(0.5))\n",
    "\n",
    "# # Output Layer for binary classification\n",
    "# model.add(Dense(2))  # 出力ユニット数を2に変更\n",
    "# model.add(Activation('softmax'))  # softmaxアクティベーション\n",
    "\n",
    "# # Compile the model\n",
    "# model.compile(loss='binary_crossentropy',  # Binary classification loss function\n",
    "#               optimizer=SGD(),             # Stochastic Gradient Descent\n",
    "#               metrics=['accuracy'])\n"
   ]
  },
  {
   "cell_type": "code",
   "execution_count": null,
   "id": "1b28c5ba-30b8-465b-aad3-9d4b31b2bf23",
   "metadata": {
    "tags": []
   },
   "outputs": [],
   "source": []
  },
  {
   "cell_type": "code",
   "execution_count": 17,
   "id": "09a1b70c-6f0a-4026-8660-fa2f61b67784",
   "metadata": {
    "tags": []
   },
   "outputs": [
    {
     "data": {
      "text/html": [
       "<pre style=\"white-space:pre;overflow-x:auto;line-height:normal;font-family:Menlo,'DejaVu Sans Mono',consolas,'Courier New',monospace\"><span style=\"font-weight: bold\">Model: \"sequential\"</span>\n",
       "</pre>\n"
      ],
      "text/plain": [
       "\u001b[1mModel: \"sequential\"\u001b[0m\n"
      ]
     },
     "metadata": {},
     "output_type": "display_data"
    },
    {
     "data": {
      "text/html": [
       "<pre style=\"white-space:pre;overflow-x:auto;line-height:normal;font-family:Menlo,'DejaVu Sans Mono',consolas,'Courier New',monospace\">┏━━━━━━━━━━━━━━━━━━━━━━━━━━━━━━━━━┳━━━━━━━━━━━━━━━━━━━━━━━━┳━━━━━━━━━━━━━━━┓\n",
       "┃<span style=\"font-weight: bold\"> Layer (type)                    </span>┃<span style=\"font-weight: bold\"> Output Shape           </span>┃<span style=\"font-weight: bold\">       Param # </span>┃\n",
       "┡━━━━━━━━━━━━━━━━━━━━━━━━━━━━━━━━━╇━━━━━━━━━━━━━━━━━━━━━━━━╇━━━━━━━━━━━━━━━┩\n",
       "│ conv2d (<span style=\"color: #0087ff; text-decoration-color: #0087ff\">Conv2D</span>)                 │ (<span style=\"color: #00d7ff; text-decoration-color: #00d7ff\">None</span>, <span style=\"color: #00af00; text-decoration-color: #00af00\">19</span>, <span style=\"color: #00af00; text-decoration-color: #00af00\">90</span>, <span style=\"color: #00af00; text-decoration-color: #00af00\">32</span>)     │           <span style=\"color: #00af00; text-decoration-color: #00af00\">896</span> │\n",
       "├─────────────────────────────────┼────────────────────────┼───────────────┤\n",
       "│ activation (<span style=\"color: #0087ff; text-decoration-color: #0087ff\">Activation</span>)         │ (<span style=\"color: #00d7ff; text-decoration-color: #00d7ff\">None</span>, <span style=\"color: #00af00; text-decoration-color: #00af00\">19</span>, <span style=\"color: #00af00; text-decoration-color: #00af00\">90</span>, <span style=\"color: #00af00; text-decoration-color: #00af00\">32</span>)     │             <span style=\"color: #00af00; text-decoration-color: #00af00\">0</span> │\n",
       "├─────────────────────────────────┼────────────────────────┼───────────────┤\n",
       "│ conv2d_1 (<span style=\"color: #0087ff; text-decoration-color: #0087ff\">Conv2D</span>)               │ (<span style=\"color: #00d7ff; text-decoration-color: #00d7ff\">None</span>, <span style=\"color: #00af00; text-decoration-color: #00af00\">17</span>, <span style=\"color: #00af00; text-decoration-color: #00af00\">88</span>, <span style=\"color: #00af00; text-decoration-color: #00af00\">32</span>)     │         <span style=\"color: #00af00; text-decoration-color: #00af00\">9,248</span> │\n",
       "├─────────────────────────────────┼────────────────────────┼───────────────┤\n",
       "│ activation_1 (<span style=\"color: #0087ff; text-decoration-color: #0087ff\">Activation</span>)       │ (<span style=\"color: #00d7ff; text-decoration-color: #00d7ff\">None</span>, <span style=\"color: #00af00; text-decoration-color: #00af00\">17</span>, <span style=\"color: #00af00; text-decoration-color: #00af00\">88</span>, <span style=\"color: #00af00; text-decoration-color: #00af00\">32</span>)     │             <span style=\"color: #00af00; text-decoration-color: #00af00\">0</span> │\n",
       "├─────────────────────────────────┼────────────────────────┼───────────────┤\n",
       "│ max_pooling2d (<span style=\"color: #0087ff; text-decoration-color: #0087ff\">MaxPooling2D</span>)    │ (<span style=\"color: #00d7ff; text-decoration-color: #00d7ff\">None</span>, <span style=\"color: #00af00; text-decoration-color: #00af00\">8</span>, <span style=\"color: #00af00; text-decoration-color: #00af00\">44</span>, <span style=\"color: #00af00; text-decoration-color: #00af00\">32</span>)      │             <span style=\"color: #00af00; text-decoration-color: #00af00\">0</span> │\n",
       "├─────────────────────────────────┼────────────────────────┼───────────────┤\n",
       "│ dropout (<span style=\"color: #0087ff; text-decoration-color: #0087ff\">Dropout</span>)               │ (<span style=\"color: #00d7ff; text-decoration-color: #00d7ff\">None</span>, <span style=\"color: #00af00; text-decoration-color: #00af00\">8</span>, <span style=\"color: #00af00; text-decoration-color: #00af00\">44</span>, <span style=\"color: #00af00; text-decoration-color: #00af00\">32</span>)      │             <span style=\"color: #00af00; text-decoration-color: #00af00\">0</span> │\n",
       "├─────────────────────────────────┼────────────────────────┼───────────────┤\n",
       "│ flatten (<span style=\"color: #0087ff; text-decoration-color: #0087ff\">Flatten</span>)               │ (<span style=\"color: #00d7ff; text-decoration-color: #00d7ff\">None</span>, <span style=\"color: #00af00; text-decoration-color: #00af00\">11264</span>)          │             <span style=\"color: #00af00; text-decoration-color: #00af00\">0</span> │\n",
       "├─────────────────────────────────┼────────────────────────┼───────────────┤\n",
       "│ dense (<span style=\"color: #0087ff; text-decoration-color: #0087ff\">Dense</span>)                   │ (<span style=\"color: #00d7ff; text-decoration-color: #00d7ff\">None</span>, <span style=\"color: #00af00; text-decoration-color: #00af00\">512</span>)            │     <span style=\"color: #00af00; text-decoration-color: #00af00\">5,767,680</span> │\n",
       "├─────────────────────────────────┼────────────────────────┼───────────────┤\n",
       "│ activation_2 (<span style=\"color: #0087ff; text-decoration-color: #0087ff\">Activation</span>)       │ (<span style=\"color: #00d7ff; text-decoration-color: #00d7ff\">None</span>, <span style=\"color: #00af00; text-decoration-color: #00af00\">512</span>)            │             <span style=\"color: #00af00; text-decoration-color: #00af00\">0</span> │\n",
       "├─────────────────────────────────┼────────────────────────┼───────────────┤\n",
       "│ dropout_1 (<span style=\"color: #0087ff; text-decoration-color: #0087ff\">Dropout</span>)             │ (<span style=\"color: #00d7ff; text-decoration-color: #00d7ff\">None</span>, <span style=\"color: #00af00; text-decoration-color: #00af00\">512</span>)            │             <span style=\"color: #00af00; text-decoration-color: #00af00\">0</span> │\n",
       "├─────────────────────────────────┼────────────────────────┼───────────────┤\n",
       "│ dense_1 (<span style=\"color: #0087ff; text-decoration-color: #0087ff\">Dense</span>)                 │ (<span style=\"color: #00d7ff; text-decoration-color: #00d7ff\">None</span>, <span style=\"color: #00af00; text-decoration-color: #00af00\">2</span>)              │         <span style=\"color: #00af00; text-decoration-color: #00af00\">1,026</span> │\n",
       "├─────────────────────────────────┼────────────────────────┼───────────────┤\n",
       "│ activation_3 (<span style=\"color: #0087ff; text-decoration-color: #0087ff\">Activation</span>)       │ (<span style=\"color: #00d7ff; text-decoration-color: #00d7ff\">None</span>, <span style=\"color: #00af00; text-decoration-color: #00af00\">2</span>)              │             <span style=\"color: #00af00; text-decoration-color: #00af00\">0</span> │\n",
       "└─────────────────────────────────┴────────────────────────┴───────────────┘\n",
       "</pre>\n"
      ],
      "text/plain": [
       "┏━━━━━━━━━━━━━━━━━━━━━━━━━━━━━━━━━┳━━━━━━━━━━━━━━━━━━━━━━━━┳━━━━━━━━━━━━━━━┓\n",
       "┃\u001b[1m \u001b[0m\u001b[1mLayer (type)                   \u001b[0m\u001b[1m \u001b[0m┃\u001b[1m \u001b[0m\u001b[1mOutput Shape          \u001b[0m\u001b[1m \u001b[0m┃\u001b[1m \u001b[0m\u001b[1m      Param #\u001b[0m\u001b[1m \u001b[0m┃\n",
       "┡━━━━━━━━━━━━━━━━━━━━━━━━━━━━━━━━━╇━━━━━━━━━━━━━━━━━━━━━━━━╇━━━━━━━━━━━━━━━┩\n",
       "│ conv2d (\u001b[38;5;33mConv2D\u001b[0m)                 │ (\u001b[38;5;45mNone\u001b[0m, \u001b[38;5;34m19\u001b[0m, \u001b[38;5;34m90\u001b[0m, \u001b[38;5;34m32\u001b[0m)     │           \u001b[38;5;34m896\u001b[0m │\n",
       "├─────────────────────────────────┼────────────────────────┼───────────────┤\n",
       "│ activation (\u001b[38;5;33mActivation\u001b[0m)         │ (\u001b[38;5;45mNone\u001b[0m, \u001b[38;5;34m19\u001b[0m, \u001b[38;5;34m90\u001b[0m, \u001b[38;5;34m32\u001b[0m)     │             \u001b[38;5;34m0\u001b[0m │\n",
       "├─────────────────────────────────┼────────────────────────┼───────────────┤\n",
       "│ conv2d_1 (\u001b[38;5;33mConv2D\u001b[0m)               │ (\u001b[38;5;45mNone\u001b[0m, \u001b[38;5;34m17\u001b[0m, \u001b[38;5;34m88\u001b[0m, \u001b[38;5;34m32\u001b[0m)     │         \u001b[38;5;34m9,248\u001b[0m │\n",
       "├─────────────────────────────────┼────────────────────────┼───────────────┤\n",
       "│ activation_1 (\u001b[38;5;33mActivation\u001b[0m)       │ (\u001b[38;5;45mNone\u001b[0m, \u001b[38;5;34m17\u001b[0m, \u001b[38;5;34m88\u001b[0m, \u001b[38;5;34m32\u001b[0m)     │             \u001b[38;5;34m0\u001b[0m │\n",
       "├─────────────────────────────────┼────────────────────────┼───────────────┤\n",
       "│ max_pooling2d (\u001b[38;5;33mMaxPooling2D\u001b[0m)    │ (\u001b[38;5;45mNone\u001b[0m, \u001b[38;5;34m8\u001b[0m, \u001b[38;5;34m44\u001b[0m, \u001b[38;5;34m32\u001b[0m)      │             \u001b[38;5;34m0\u001b[0m │\n",
       "├─────────────────────────────────┼────────────────────────┼───────────────┤\n",
       "│ dropout (\u001b[38;5;33mDropout\u001b[0m)               │ (\u001b[38;5;45mNone\u001b[0m, \u001b[38;5;34m8\u001b[0m, \u001b[38;5;34m44\u001b[0m, \u001b[38;5;34m32\u001b[0m)      │             \u001b[38;5;34m0\u001b[0m │\n",
       "├─────────────────────────────────┼────────────────────────┼───────────────┤\n",
       "│ flatten (\u001b[38;5;33mFlatten\u001b[0m)               │ (\u001b[38;5;45mNone\u001b[0m, \u001b[38;5;34m11264\u001b[0m)          │             \u001b[38;5;34m0\u001b[0m │\n",
       "├─────────────────────────────────┼────────────────────────┼───────────────┤\n",
       "│ dense (\u001b[38;5;33mDense\u001b[0m)                   │ (\u001b[38;5;45mNone\u001b[0m, \u001b[38;5;34m512\u001b[0m)            │     \u001b[38;5;34m5,767,680\u001b[0m │\n",
       "├─────────────────────────────────┼────────────────────────┼───────────────┤\n",
       "│ activation_2 (\u001b[38;5;33mActivation\u001b[0m)       │ (\u001b[38;5;45mNone\u001b[0m, \u001b[38;5;34m512\u001b[0m)            │             \u001b[38;5;34m0\u001b[0m │\n",
       "├─────────────────────────────────┼────────────────────────┼───────────────┤\n",
       "│ dropout_1 (\u001b[38;5;33mDropout\u001b[0m)             │ (\u001b[38;5;45mNone\u001b[0m, \u001b[38;5;34m512\u001b[0m)            │             \u001b[38;5;34m0\u001b[0m │\n",
       "├─────────────────────────────────┼────────────────────────┼───────────────┤\n",
       "│ dense_1 (\u001b[38;5;33mDense\u001b[0m)                 │ (\u001b[38;5;45mNone\u001b[0m, \u001b[38;5;34m2\u001b[0m)              │         \u001b[38;5;34m1,026\u001b[0m │\n",
       "├─────────────────────────────────┼────────────────────────┼───────────────┤\n",
       "│ activation_3 (\u001b[38;5;33mActivation\u001b[0m)       │ (\u001b[38;5;45mNone\u001b[0m, \u001b[38;5;34m2\u001b[0m)              │             \u001b[38;5;34m0\u001b[0m │\n",
       "└─────────────────────────────────┴────────────────────────┴───────────────┘\n"
      ]
     },
     "metadata": {},
     "output_type": "display_data"
    },
    {
     "data": {
      "text/html": [
       "<pre style=\"white-space:pre;overflow-x:auto;line-height:normal;font-family:Menlo,'DejaVu Sans Mono',consolas,'Courier New',monospace\"><span style=\"font-weight: bold\"> Total params: </span><span style=\"color: #00af00; text-decoration-color: #00af00\">5,778,850</span> (22.04 MB)\n",
       "</pre>\n"
      ],
      "text/plain": [
       "\u001b[1m Total params: \u001b[0m\u001b[38;5;34m5,778,850\u001b[0m (22.04 MB)\n"
      ]
     },
     "metadata": {},
     "output_type": "display_data"
    },
    {
     "data": {
      "text/html": [
       "<pre style=\"white-space:pre;overflow-x:auto;line-height:normal;font-family:Menlo,'DejaVu Sans Mono',consolas,'Courier New',monospace\"><span style=\"font-weight: bold\"> Trainable params: </span><span style=\"color: #00af00; text-decoration-color: #00af00\">5,778,850</span> (22.04 MB)\n",
       "</pre>\n"
      ],
      "text/plain": [
       "\u001b[1m Trainable params: \u001b[0m\u001b[38;5;34m5,778,850\u001b[0m (22.04 MB)\n"
      ]
     },
     "metadata": {},
     "output_type": "display_data"
    },
    {
     "data": {
      "text/html": [
       "<pre style=\"white-space:pre;overflow-x:auto;line-height:normal;font-family:Menlo,'DejaVu Sans Mono',consolas,'Courier New',monospace\"><span style=\"font-weight: bold\"> Non-trainable params: </span><span style=\"color: #00af00; text-decoration-color: #00af00\">0</span> (0.00 B)\n",
       "</pre>\n"
      ],
      "text/plain": [
       "\u001b[1m Non-trainable params: \u001b[0m\u001b[38;5;34m0\u001b[0m (0.00 B)\n"
      ]
     },
     "metadata": {},
     "output_type": "display_data"
    }
   ],
   "source": [
    "# モデルのサマリーを表示\n",
    "model.summary()"
   ]
  },
  {
   "cell_type": "code",
   "execution_count": 18,
   "id": "b48a8629-bb29-4402-b7b2-002f57455c89",
   "metadata": {
    "tags": []
   },
   "outputs": [
    {
     "name": "stdout",
     "output_type": "stream",
     "text": [
      "Epoch 1/20\n",
      "\u001b[1m5/5\u001b[0m \u001b[32m━━━━━━━━━━━━━━━━━━━━\u001b[0m\u001b[37m\u001b[0m \u001b[1m1s\u001b[0m 124ms/step - accuracy: 0.5281 - loss: 0.7184 - val_accuracy: 0.6983 - val_loss: 0.6681\n",
      "Epoch 2/20\n",
      "\u001b[1m5/5\u001b[0m \u001b[32m━━━━━━━━━━━━━━━━━━━━\u001b[0m\u001b[37m\u001b[0m \u001b[1m1s\u001b[0m 110ms/step - accuracy: 0.6119 - loss: 0.6666 - val_accuracy: 0.8039 - val_loss: 0.6389\n",
      "Epoch 3/20\n",
      "\u001b[1m5/5\u001b[0m \u001b[32m━━━━━━━━━━━━━━━━━━━━\u001b[0m\u001b[37m\u001b[0m \u001b[1m1s\u001b[0m 110ms/step - accuracy: 0.6457 - loss: 0.6537 - val_accuracy: 0.8017 - val_loss: 0.6138\n",
      "Epoch 4/20\n",
      "\u001b[1m5/5\u001b[0m \u001b[32m━━━━━━━━━━━━━━━━━━━━\u001b[0m\u001b[37m\u001b[0m \u001b[1m1s\u001b[0m 112ms/step - accuracy: 0.7001 - loss: 0.6203 - val_accuracy: 0.8125 - val_loss: 0.5876\n",
      "Epoch 5/20\n",
      "\u001b[1m5/5\u001b[0m \u001b[32m━━━━━━━━━━━━━━━━━━━━\u001b[0m\u001b[37m\u001b[0m \u001b[1m1s\u001b[0m 110ms/step - accuracy: 0.7673 - loss: 0.5882 - val_accuracy: 0.8017 - val_loss: 0.5608\n",
      "Epoch 6/20\n",
      "\u001b[1m5/5\u001b[0m \u001b[32m━━━━━━━━━━━━━━━━━━━━\u001b[0m\u001b[37m\u001b[0m \u001b[1m1s\u001b[0m 112ms/step - accuracy: 0.7784 - loss: 0.5725 - val_accuracy: 0.7780 - val_loss: 0.5402\n",
      "Epoch 7/20\n",
      "\u001b[1m5/5\u001b[0m \u001b[32m━━━━━━━━━━━━━━━━━━━━\u001b[0m\u001b[37m\u001b[0m \u001b[1m1s\u001b[0m 112ms/step - accuracy: 0.7696 - loss: 0.5574 - val_accuracy: 0.7543 - val_loss: 0.5325\n",
      "Epoch 8/20\n",
      "\u001b[1m5/5\u001b[0m \u001b[32m━━━━━━━━━━━━━━━━━━━━\u001b[0m\u001b[37m\u001b[0m \u001b[1m1s\u001b[0m 112ms/step - accuracy: 0.7753 - loss: 0.5423 - val_accuracy: 0.8103 - val_loss: 0.4954\n",
      "Epoch 9/20\n",
      "\u001b[1m5/5\u001b[0m \u001b[32m━━━━━━━━━━━━━━━━━━━━\u001b[0m\u001b[37m\u001b[0m \u001b[1m1s\u001b[0m 112ms/step - accuracy: 0.8106 - loss: 0.5078 - val_accuracy: 0.7974 - val_loss: 0.4771\n",
      "Epoch 10/20\n",
      "\u001b[1m5/5\u001b[0m \u001b[32m━━━━━━━━━━━━━━━━━━━━\u001b[0m\u001b[37m\u001b[0m \u001b[1m1s\u001b[0m 111ms/step - accuracy: 0.7985 - loss: 0.5005 - val_accuracy: 0.7953 - val_loss: 0.4835\n",
      "Epoch 11/20\n",
      "\u001b[1m5/5\u001b[0m \u001b[32m━━━━━━━━━━━━━━━━━━━━\u001b[0m\u001b[37m\u001b[0m \u001b[1m1s\u001b[0m 110ms/step - accuracy: 0.7950 - loss: 0.4826 - val_accuracy: 0.8190 - val_loss: 0.4404\n",
      "Epoch 12/20\n",
      "\u001b[1m5/5\u001b[0m \u001b[32m━━━━━━━━━━━━━━━━━━━━\u001b[0m\u001b[37m\u001b[0m \u001b[1m1s\u001b[0m 111ms/step - accuracy: 0.8075 - loss: 0.4581 - val_accuracy: 0.8254 - val_loss: 0.4314\n",
      "Epoch 13/20\n",
      "\u001b[1m5/5\u001b[0m \u001b[32m━━━━━━━━━━━━━━━━━━━━\u001b[0m\u001b[37m\u001b[0m \u001b[1m1s\u001b[0m 113ms/step - accuracy: 0.7934 - loss: 0.4623 - val_accuracy: 0.8276 - val_loss: 0.4190\n",
      "Epoch 14/20\n",
      "\u001b[1m5/5\u001b[0m \u001b[32m━━━━━━━━━━━━━━━━━━━━\u001b[0m\u001b[37m\u001b[0m \u001b[1m1s\u001b[0m 111ms/step - accuracy: 0.7983 - loss: 0.4492 - val_accuracy: 0.8125 - val_loss: 0.4350\n",
      "Epoch 15/20\n",
      "\u001b[1m5/5\u001b[0m \u001b[32m━━━━━━━━━━━━━━━━━━━━\u001b[0m\u001b[37m\u001b[0m \u001b[1m1s\u001b[0m 112ms/step - accuracy: 0.7941 - loss: 0.4515 - val_accuracy: 0.8297 - val_loss: 0.4042\n",
      "Epoch 16/20\n",
      "\u001b[1m5/5\u001b[0m \u001b[32m━━━━━━━━━━━━━━━━━━━━\u001b[0m\u001b[37m\u001b[0m \u001b[1m1s\u001b[0m 110ms/step - accuracy: 0.8176 - loss: 0.4270 - val_accuracy: 0.8362 - val_loss: 0.3931\n",
      "Epoch 17/20\n",
      "\u001b[1m5/5\u001b[0m \u001b[32m━━━━━━━━━━━━━━━━━━━━\u001b[0m\u001b[37m\u001b[0m \u001b[1m1s\u001b[0m 111ms/step - accuracy: 0.8029 - loss: 0.4235 - val_accuracy: 0.8427 - val_loss: 0.3869\n",
      "Epoch 18/20\n",
      "\u001b[1m5/5\u001b[0m \u001b[32m━━━━━━━━━━━━━━━━━━━━\u001b[0m\u001b[37m\u001b[0m \u001b[1m1s\u001b[0m 112ms/step - accuracy: 0.8059 - loss: 0.4255 - val_accuracy: 0.8276 - val_loss: 0.3819\n",
      "Epoch 19/20\n",
      "\u001b[1m5/5\u001b[0m \u001b[32m━━━━━━━━━━━━━━━━━━━━\u001b[0m\u001b[37m\u001b[0m \u001b[1m1s\u001b[0m 111ms/step - accuracy: 0.8348 - loss: 0.4103 - val_accuracy: 0.8190 - val_loss: 0.3930\n",
      "Epoch 20/20\n",
      "\u001b[1m5/5\u001b[0m \u001b[32m━━━━━━━━━━━━━━━━━━━━\u001b[0m\u001b[37m\u001b[0m \u001b[1m1s\u001b[0m 111ms/step - accuracy: 0.8257 - loss: 0.4084 - val_accuracy: 0.8147 - val_loss: 0.3963\n"
     ]
    }
   ],
   "source": [
    "# モデルのトレーニング\n",
    "history = model.fit(X, Y, batch_size=256, epochs=20,validation_data=(valX, valY))"
   ]
  },
  {
   "cell_type": "code",
   "execution_count": 19,
   "id": "eb92f05e-0c34-4075-9ef2-9f0f706f3038",
   "metadata": {
    "tags": []
   },
   "outputs": [
    {
     "ename": "NameError",
     "evalue": "name 'Model' is not defined",
     "output_type": "error",
     "traceback": [
      "\u001b[0;31m---------------------------------------------------------------------------\u001b[0m",
      "\u001b[0;31mNameError\u001b[0m                                 Traceback (most recent call last)",
      "Cell \u001b[0;32mIn[19], line 2\u001b[0m\n\u001b[1;32m      1\u001b[0m \u001b[38;5;66;03m# ここでは2つ目のConv1D層の出力を取得するモデルを作成します。\u001b[39;00m\n\u001b[0;32m----> 2\u001b[0m intermediate_model \u001b[38;5;241m=\u001b[39m Model(inputs\u001b[38;5;241m=\u001b[39mmodel\u001b[38;5;241m.\u001b[39minput, outputs\u001b[38;5;241m=\u001b[39mmodel\u001b[38;5;241m.\u001b[39mget_layer(index\u001b[38;5;241m=\u001b[39m\u001b[38;5;241m2\u001b[39m)\u001b[38;5;241m.\u001b[39moutput)\n\u001b[1;32m      4\u001b[0m \u001b[38;5;66;03m# サンプルデータを使って中間層の出力を計算\u001b[39;00m\n\u001b[1;32m      5\u001b[0m intermediate_output \u001b[38;5;241m=\u001b[39m intermediate_model\u001b[38;5;241m.\u001b[39mpredict(X)\n",
      "\u001b[0;31mNameError\u001b[0m: name 'Model' is not defined"
     ]
    }
   ],
   "source": [
    "# ここでは2つ目のConv1D層の出力を取得するモデルを作成します。\n",
    "intermediate_model = Model(inputs=model.input, outputs=model.get_layer(index=2).output)\n",
    "\n",
    "# サンプルデータを使って中間層の出力を計算\n",
    "intermediate_output = intermediate_model.predict(X)\n",
    "\n",
    "print(\"Intermediate layer output shape:\", intermediate_output.shape)"
   ]
  },
  {
   "cell_type": "code",
   "execution_count": 20,
   "id": "fd494594-a718-4df2-8f2c-2c5ceb3988ca",
   "metadata": {
    "tags": []
   },
   "outputs": [
    {
     "data": {
      "image/png": "[encoded data removed]",
      "text/plain": [
       "<Figure size 1200x600 with 2 Axes>"
      ]
     },
     "metadata": {},
     "output_type": "display_data"
    }
   ],
   "source": [
    "\n",
    "# 訓練と検証の損失をプロット\n",
    "plt.figure(figsize=(12, 6))\n",
    "plt.subplot(1, 2, 1)\n",
    "plt.plot(history.history['loss'], label='Training Loss')\n",
    "plt.plot(history.history['val_loss'], label='Validation Loss')\n",
    "plt.title('Training and Validation Loss')\n",
    "plt.xlabel('Epochs')\n",
    "plt.ylabel('Loss')\n",
    "plt.legend()\n",
    "\n",
    "# 訓練と検証の精度をプロット\n",
    "plt.subplot(1, 2, 2)\n",
    "plt.plot(history.history['accuracy'], label='Training Accuracy')\n",
    "plt.plot(history.history['val_accuracy'], label='Validation Accuracy')\n",
    "plt.title('Training and Validation Accuracy')\n",
    "plt.xlabel('Epochs')\n",
    "plt.ylabel('Accuracy')\n",
    "plt.legend()\n",
    "\n",
    "plt.show()\n"
   ]
  },
  {
   "cell_type": "code",
   "execution_count": null,
   "id": "2151b46e-0f32-4352-b60f-8e06c45e6af4",
   "metadata": {
    "tags": []
   },
   "outputs": [],
   "source": []
  },
  {
   "cell_type": "code",
   "execution_count": 21,
   "id": "0a9dfc40-fcee-402a-92d6-3377bbfc6203",
   "metadata": {
    "tags": []
   },
   "outputs": [
    {
     "name": "stdout",
     "output_type": "stream",
     "text": [
      "\u001b[1m34/34\u001b[0m \u001b[32m━━━━━━━━━━━━━━━━━━━━\u001b[0m\u001b[37m\u001b[0m \u001b[1m0s\u001b[0m 8ms/step\n",
      "[0 0 1 ... 0 1 1]\n",
      "[0 0 1 ... 1 1 1]\n"
     ]
    },
    {
     "data": {
      "text/html": [
       "<div>\n",
       "<style scoped>\n",
       "    .dataframe tbody tr th:only-of-type {\n",
       "        vertical-align: middle;\n",
       "    }\n",
       "\n",
       "    .dataframe tbody tr th {\n",
       "        vertical-align: top;\n",
       "    }\n",
       "\n",
       "    .dataframe thead th {\n",
       "        text-align: right;\n",
       "    }\n",
       "</style>\n",
       "<table border=\"1\" class=\"dataframe\">\n",
       "  <thead>\n",
       "    <tr style=\"text-align: right;\">\n",
       "      <th>predict</th>\n",
       "      <th>0</th>\n",
       "      <th>1</th>\n",
       "    </tr>\n",
       "    <tr>\n",
       "      <th>class</th>\n",
       "      <th></th>\n",
       "      <th></th>\n",
       "    </tr>\n",
       "  </thead>\n",
       "  <tbody>\n",
       "    <tr>\n",
       "      <th>0</th>\n",
       "      <td>482</td>\n",
       "      <td>89</td>\n",
       "    </tr>\n",
       "    <tr>\n",
       "      <th>1</th>\n",
       "      <td>97</td>\n",
       "      <td>412</td>\n",
       "    </tr>\n",
       "  </tbody>\n",
       "</table>\n",
       "</div>"
      ],
      "text/plain": [
       "predict    0    1\n",
       "class            \n",
       "0        482   89\n",
       "1         97  412"
      ]
     },
     "execution_count": 21,
     "metadata": {},
     "output_type": "execute_result"
    }
   ],
   "source": [
    "# Confusion matrix\n",
    "\n",
    "# Classify training data\n",
    "predict_classes = np.argmax(model.predict(X), axis=-1)\n",
    "\n",
    "mg_df = pd.DataFrame({'predict': predict_classes, 'class': np.argmax(Y, axis=1)})\n",
    "print(predict_classes)\n",
    "print(np.argmax(Y, axis=1))\n",
    "# Show confusion matrix\n",
    "pd.crosstab(mg_df['class'], mg_df['predict'])\n"
   ]
  },
  {
   "cell_type": "code",
   "execution_count": null,
   "id": "069c1093-2128-4342-a098-244ce8354720",
   "metadata": {
    "tags": []
   },
   "outputs": [],
   "source": []
  },
  {
   "cell_type": "code",
   "execution_count": 22,
   "id": "d6871b40-0a1e-4e95-9ebb-7e7f6e708719",
   "metadata": {
    "tags": []
   },
   "outputs": [
    {
     "data": {
      "text/plain": [
       "array([0, 0, 1, ..., 0, 1, 1])"
      ]
     },
     "execution_count": 22,
     "metadata": {},
     "output_type": "execute_result"
    }
   ],
   "source": [
    "# Classification result for each training data\n",
    "\n",
    "predict_classes"
   ]
  },
  {
   "cell_type": "code",
   "execution_count": 23,
   "id": "3b6fde1a-9813-458f-8cac-45ebfb4c5faa",
   "metadata": {
    "tags": []
   },
   "outputs": [
    {
     "name": "stdout",
     "output_type": "stream",
     "text": [
      "Skipped 20170131_235929.csv: Not 90 columns\n",
      "76\n",
      "(656, 19, 90)\n",
      "(656, 19, 90)\n"
     ]
    }
   ],
   "source": [
    "# Import test data\n",
    "\n",
    "testX = []\n",
    "testY = []\n",
    "testI = []\n",
    "testdataNum = []\n",
    "\n",
    "for i in range(classNumber):\n",
    "    filepath = '/Volumes/HD-PUSU3-D/training_data_90sec/test' + str(i+1) + '/'\n",
    "    testdataNum.append(0)\n",
    "    for filename in os.listdir(filepath):\n",
    "        try:\n",
    "            if filename.endswith('.csv'):\n",
    "                fullpath = os.path.join(filepath, filename)\n",
    "                i_dif_flux_matrix = pd.read_csv(fullpath, sep=',', header=None)\n",
    "                \n",
    "                # 行の長さが19行でない場合はスキップする\n",
    "                if i_dif_flux_matrix.shape[0] != 19:\n",
    "                    print(f\"Skipped {filename}: Not 19 rows\")\n",
    "                    print(i_dif_flux_matrix.shape[1])\n",
    "                    continue\n",
    "                if i_dif_flux_matrix.shape[1] != 90:\n",
    "                    print(f\"Skipped {filename}: Not 90 columns\")\n",
    "                    print(i_dif_flux_matrix.shape[1])\n",
    "                    continue\n",
    "                    \n",
    "                testX.append(i_dif_flux_matrix.values)  # データフレームをNumPy配列に変換\n",
    "                testY.append(i)\n",
    "                dataNum[i] += 1\n",
    "        except:\n",
    "            continue\n",
    "\n",
    "# i_dif_flux_matrix = pd.read_csv('out.csv',sep=',', header = None)\n",
    "# print(type(userdicdf))\n",
    "\n",
    "# arrayに変換\n",
    "testX = np.asarray(testX)\n",
    "testY = np.asarray(testY)\n",
    "print(testX.shape)\n",
    "# for i in range(classNumber):\n",
    "    # print(dataNum[i])\n",
    "\n",
    "\n",
    "#Xをログスケールにして、値が1e2以下のものには0を代入\n",
    "testX = np.where((testX <= 1e2) | np.isnan(testX), 0, log_norm(testX, vmin=1e2, vmax=1e6))\n",
    "\n",
    "#32ビットfloatに変換\n",
    "testX = testX.astype('float32')\n",
    "# testX = np.expand_dims(testX, axis=-1)\n",
    "\n",
    "print(testX.shape)"
   ]
  },
  {
   "cell_type": "code",
   "execution_count": 24,
   "id": "1ccd6d0d-f5ed-4c26-81b6-06fb9e0ac2c3",
   "metadata": {
    "tags": []
   },
   "outputs": [
    {
     "name": "stdout",
     "output_type": "stream",
     "text": [
      "[[1. 0.]\n",
      " [1. 0.]\n",
      " [1. 0.]\n",
      " ...\n",
      " [0. 1.]\n",
      " [0. 1.]\n",
      " [0. 1.]]\n"
     ]
    }
   ],
   "source": [
    "testY = utils.to_categorical(testY, classNumber)\n",
    "print(testY)\n"
   ]
  },
  {
   "cell_type": "code",
   "execution_count": 25,
   "id": "fdb2da45-c2c3-437c-8622-1234459d954a",
   "metadata": {
    "tags": []
   },
   "outputs": [
    {
     "name": "stdout",
     "output_type": "stream",
     "text": [
      "(656, 19, 90, 3)\n"
     ]
    }
   ],
   "source": [
    "# カラーマップの作成\n",
    "cmap = plt.get_cmap('jet')\n",
    "\n",
    "# `jet`カラーマップを適用し、RGBリストに変換（最後の次元はRGBA）\n",
    "rgb_testX = cmap(testX)\n",
    "\n",
    "# RGBAからRGBに変換（αチャンネルを削除）\n",
    "rgb_testX = rgb_testX[..., :3]  # 最後の次元（αチャンネル）を削除\n",
    "\n",
    "# RGBリストの形状確認（(1544, 19, 90, 3)）\n",
    "print(rgb_testX.shape)  # (1544, 19, 90, 3)"
   ]
  },
  {
   "cell_type": "code",
   "execution_count": 26,
   "id": "4b03f380-dc42-4ae6-9838-a8457bb2ebf0",
   "metadata": {
    "tags": []
   },
   "outputs": [
    {
     "name": "stdout",
     "output_type": "stream",
     "text": [
      "\u001b[1m21/21\u001b[0m \u001b[32m━━━━━━━━━━━━━━━━━━━━\u001b[0m\u001b[37m\u001b[0m \u001b[1m0s\u001b[0m 7ms/step\n",
      "test data result\n",
      "\n"
     ]
    },
    {
     "data": {
      "text/html": [
       "<div>\n",
       "<style scoped>\n",
       "    .dataframe tbody tr th:only-of-type {\n",
       "        vertical-align: middle;\n",
       "    }\n",
       "\n",
       "    .dataframe tbody tr th {\n",
       "        vertical-align: top;\n",
       "    }\n",
       "\n",
       "    .dataframe thead th {\n",
       "        text-align: right;\n",
       "    }\n",
       "</style>\n",
       "<table border=\"1\" class=\"dataframe\">\n",
       "  <thead>\n",
       "    <tr style=\"text-align: right;\">\n",
       "      <th>predict</th>\n",
       "      <th>0</th>\n",
       "      <th>1</th>\n",
       "    </tr>\n",
       "    <tr>\n",
       "      <th>class</th>\n",
       "      <th></th>\n",
       "      <th></th>\n",
       "    </tr>\n",
       "  </thead>\n",
       "  <tbody>\n",
       "    <tr>\n",
       "      <th>0</th>\n",
       "      <td>298</td>\n",
       "      <td>43</td>\n",
       "    </tr>\n",
       "    <tr>\n",
       "      <th>1</th>\n",
       "      <td>5</td>\n",
       "      <td>310</td>\n",
       "    </tr>\n",
       "  </tbody>\n",
       "</table>\n",
       "</div>"
      ],
      "text/plain": [
       "predict    0    1\n",
       "class            \n",
       "0        298   43\n",
       "1          5  310"
      ]
     },
     "execution_count": 26,
     "metadata": {},
     "output_type": "execute_result"
    }
   ],
   "source": [
    "# Confusion matrix\n",
    "\n",
    "# Classify test data\n",
    "test_predict_classes = np.argmax(model.predict(rgb_testX), axis=-1)\n",
    "\n",
    "mg_df = pd.DataFrame({'predict': test_predict_classes, 'class': np.argmax(testY, axis=1)})\n",
    "\n",
    "# Show confusion matrix\n",
    "print('test data result\\n')\n",
    "pd.crosstab(mg_df['class'], mg_df['predict'])"
   ]
  },
  {
   "cell_type": "code",
   "execution_count": 27,
   "id": "61b5b75f-daa2-4ba9-8ea6-e4f9865efe8f",
   "metadata": {
    "tags": []
   },
   "outputs": [
    {
     "data": {
      "text/plain": [
       "array([0, 1, 0, 0, 0, 1, 0, 0, 0, 0, 0, 0, 1, 0, 0, 0, 0, 0, 0, 0, 0, 0,\n",
       "       0, 0, 0, 0, 0, 0, 0, 0, 0, 1, 0, 0, 0, 0, 0, 0, 0, 0, 0, 0, 0, 0,\n",
       "       0, 0, 0, 0, 0, 0, 0, 1, 0, 0, 0, 0, 0, 0, 0, 0, 0, 0, 1, 1, 0, 0,\n",
       "       0, 0, 0, 1, 0, 0, 0, 0, 0, 0, 1, 0, 1, 1, 1, 0, 0, 0, 0, 1, 1, 1,\n",
       "       0, 0, 0, 0, 0, 0, 0, 0, 0, 0, 0, 0, 0, 0, 0, 0, 0, 1, 0, 0, 0, 0,\n",
       "       0, 0, 0, 1, 0, 0, 0, 0, 0, 0, 1, 0, 0, 0, 0, 0, 0, 0, 0, 0, 0, 0,\n",
       "       0, 0, 0, 0, 0, 0, 0, 0, 0, 0, 0, 0, 0, 0, 0, 0, 0, 0, 0, 0, 0, 0,\n",
       "       0, 0, 0, 1, 0, 0, 0, 0, 0, 0, 0, 0, 0, 0, 0, 0, 0, 0, 0, 0, 0, 0,\n",
       "       1, 0, 1, 0, 0, 0, 0, 0, 0, 0, 0, 1, 0, 0, 1, 0, 1, 1, 0, 0, 0, 0,\n",
       "       0, 0, 0, 0, 0, 0, 1, 0, 0, 0, 0, 1, 0, 0, 0, 0, 0, 0, 0, 0, 0, 0,\n",
       "       0, 1, 0, 0, 0, 0, 1, 0, 0, 0, 0, 0, 0, 0, 0, 0, 0, 1, 1, 0, 1, 0,\n",
       "       0, 0, 0, 0, 0, 0, 0, 0, 0, 0, 0, 0, 0, 0, 0, 1, 0, 0, 0, 0, 0, 0,\n",
       "       0, 0, 0, 0, 0, 0, 0, 0, 0, 0, 0, 0, 0, 0, 0, 0, 1, 1, 0, 0, 0, 0,\n",
       "       0, 0, 0, 0, 0, 0, 0, 0, 0, 0, 0, 0, 1, 1, 1, 1, 0, 0, 0, 0, 0, 0,\n",
       "       0, 0, 0, 0, 0, 0, 1, 0, 0, 0, 0, 0, 0, 0, 1, 0, 0, 0, 0, 0, 0, 0,\n",
       "       0, 0, 0, 0, 0, 0, 0, 1, 0, 0, 1, 1, 1, 1, 1, 1, 0, 1, 1, 1, 1, 1,\n",
       "       1, 1, 1, 1, 1, 1, 1, 1, 1, 1, 1, 1, 1, 1, 1, 1, 1, 1, 1, 1, 1, 1,\n",
       "       0, 1, 1, 1, 1, 1, 1, 1, 1, 1, 1, 1, 1, 1, 1, 1, 1, 1, 1, 1, 1, 1,\n",
       "       1, 1, 1, 1, 1, 1, 1, 1, 1, 1, 1, 1, 1, 1, 1, 1, 1, 1, 1, 1, 1, 1,\n",
       "       1, 1, 1, 1, 1, 1, 1, 1, 1, 1, 1, 1, 1, 1, 1, 1, 1, 1, 1, 1, 1, 1,\n",
       "       1, 1, 1, 1, 1, 1, 1, 1, 1, 1, 1, 1, 1, 1, 1, 1, 1, 1, 1, 1, 1, 1,\n",
       "       1, 1, 1, 1, 1, 1, 1, 1, 1, 1, 1, 1, 1, 1, 1, 1, 1, 1, 1, 1, 1, 1,\n",
       "       1, 1, 1, 1, 1, 1, 1, 1, 1, 1, 1, 1, 1, 1, 1, 1, 1, 1, 0, 1, 1, 1,\n",
       "       1, 1, 1, 1, 1, 1, 1, 1, 1, 1, 1, 1, 1, 1, 1, 1, 1, 1, 1, 1, 1, 1,\n",
       "       1, 1, 1, 1, 1, 1, 1, 1, 1, 1, 1, 1, 1, 1, 1, 1, 1, 1, 1, 1, 1, 1,\n",
       "       1, 1, 1, 1, 1, 1, 1, 1, 1, 1, 1, 1, 1, 1, 1, 1, 1, 1, 1, 1, 1, 1,\n",
       "       1, 1, 1, 1, 1, 1, 1, 1, 1, 1, 1, 1, 1, 1, 1, 1, 1, 1, 1, 1, 1, 1,\n",
       "       1, 1, 1, 1, 1, 1, 1, 1, 1, 1, 1, 1, 1, 1, 1, 1, 1, 1, 1, 1, 1, 1,\n",
       "       1, 1, 1, 1, 1, 1, 1, 1, 1, 1, 1, 1, 1, 1, 1, 1, 1, 1, 1, 1, 1, 1,\n",
       "       0, 1, 0, 1, 1, 1, 1, 1, 1, 1, 1, 1, 1, 1, 1, 1, 1, 1])"
      ]
     },
     "execution_count": 27,
     "metadata": {},
     "output_type": "execute_result"
    }
   ],
   "source": [
    "# Classification result for each test data\n",
    "\n",
    "test_predict_classes"
   ]
  },
  {
   "cell_type": "code",
   "execution_count": 28,
   "id": "cad7d810-7a98-4d58-a850-bbac6486d62f",
   "metadata": {
    "tags": []
   },
   "outputs": [
    {
     "name": "stderr",
     "output_type": "stream",
     "text": [
      "WARNING:absl:You are saving your model as an HDF5 file via `model.save()` or `keras.saving.save_model(model)`. This file format is considered legacy. We recommend using instead the native Keras format, e.g. `model.save('my_model.keras')` or `keras.saving.save_model(model, 'my_model.keras')`. \n"
     ]
    }
   ],
   "source": [
    "# Export the training result\n",
    "\n",
    "model.save('cnn_90s.h5')"
   ]
  },
  {
   "cell_type": "code",
   "execution_count": null,
   "id": "9f199296-13db-4873-bec0-9face8fe2e9e",
   "metadata": {},
   "outputs": [],
   "source": []
  },
  {
   "cell_type": "code",
   "execution_count": null,
   "id": "5315fbf1-e099-4887-8034-f8db5e515b97",
   "metadata": {},
   "outputs": [],
   "source": []
  },
  {
   "cell_type": "code",
   "execution_count": null,
   "id": "f7ef0276-5ee3-46f2-99e9-b1b8edb986f8",
   "metadata": {
    "tags": []
   },
   "outputs": [],
   "source": []
  },
  {
   "cell_type": "code",
   "execution_count": null,
   "id": "f0bcecc0-251a-410b-9d66-a4ee4466adb2",
   "metadata": {},
   "outputs": [],
   "source": []
  },
  {
   "cell_type": "code",
   "execution_count": null,
   "id": "488d4e8d-2a10-4d47-8b6f-63c6f3e7f22e",
   "metadata": {},
   "outputs": [],
   "source": []
  },
  {
   "cell_type": "code",
   "execution_count": null,
   "id": "054ac335-1349-4be8-939c-19d688f82e0c",
   "metadata": {},
   "outputs": [],
   "source": []
  }
 ],
 "metadata": {
  "kernelspec": {
   "display_name": "Python 3 (ipykernel)",
   "language": "python",
   "name": "python3"
  },
  "language_info": {
   "codemirror_mode": {
    "name": "ipython",
    "version": 3
   },
   "file_extension": ".py",
   "mimetype": "text/x-python",
   "name": "python",
   "nbconvert_exporter": "python",
   "pygments_lexer": "ipython3",
   "version": "3.11.5"
  }
 },
 "nbformat": 4,
 "nbformat_minor": 5
}
